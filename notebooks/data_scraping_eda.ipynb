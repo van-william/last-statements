{
 "cells": [
  {
   "cell_type": "code",
   "execution_count": 75,
   "id": "035db00e-d833-4047-b62f-489113a3b8da",
   "metadata": {},
   "outputs": [],
   "source": [
    "import requests\n",
    "from bs4 import BeautifulSoup\n",
    "import pandas as pd\n",
    "import lxml\n",
    "import re\n",
    "from requests.packages.urllib3.exceptions import InsecureRequestWarning\n",
    "requests.packages.urllib3.disable_warnings(InsecureRequestWarning)\n",
    "import matplotlib.pyplot as plt\n",
    "import string\n",
    "import collections\n",
    "\n",
    "\n",
    "import nltk\n",
    "from nltk.corpus import stopwords\n",
    "from nltk.stem import WordNetLemmatizer\n",
    "\n",
    "import nltk\n",
    "from nltk import word_tokenize\n",
    "from nltk.stem import PorterStemmer\n",
    "from nltk.corpus import stopwords\n",
    "from sklearn.cluster import KMeans\n",
    "from sklearn.feature_extraction.text import TfidfVectorizer\n",
    "from sklearn.decomposition import PCA\n"
   ]
  },
  {
   "cell_type": "code",
   "execution_count": 60,
   "id": "688e355b-cb46-4b3a-b0ad-9cbd321071f7",
   "metadata": {},
   "outputs": [
    {
     "name": "stderr",
     "output_type": "stream",
     "text": [
      "[nltk_data] Downloading package punkt to\n",
      "[nltk_data]     C:\\Users\\wvanbuskir002\\AppData\\Roaming\\nltk_data...\n",
      "[nltk_data]   Package punkt is already up-to-date!\n",
      "[nltk_data] Downloading package stopwords to\n",
      "[nltk_data]     C:\\Users\\wvanbuskir002\\AppData\\Roaming\\nltk_data...\n",
      "[nltk_data]   Package stopwords is already up-to-date!\n",
      "[nltk_data] Downloading package wordnet to\n",
      "[nltk_data]     C:\\Users\\wvanbuskir002\\AppData\\Roaming\\nltk_data...\n",
      "[nltk_data]   Package wordnet is already up-to-date!\n"
     ]
    },
    {
     "data": {
      "text/plain": [
       "True"
      ]
     },
     "execution_count": 60,
     "metadata": {},
     "output_type": "execute_result"
    }
   ],
   "source": [
    "nltk.download('punkt')\n",
    "nltk.download('stopwords')\n",
    "nltk.download('wordnet')"
   ]
  },
  {
   "cell_type": "code",
   "execution_count": 61,
   "id": "08754bee-f141-4191-a64b-666f77c84247",
   "metadata": {},
   "outputs": [],
   "source": [
    "import requests\n",
    "from bs4 import BeautifulSoup\n",
    "\n",
    "URL = \"https://www.tdcj.texas.gov/death_row/dr_executed_offenders.html\"\n",
    "page = requests.get(URL, verify = False)\n",
    "soup = BeautifulSoup(page.content, \"html.parser\")"
   ]
  },
  {
   "cell_type": "code",
   "execution_count": 62,
   "id": "0fbfe2b4",
   "metadata": {},
   "outputs": [
    {
     "data": {
      "text/plain": [
       "b'\"Hello from Lambda!\"'"
      ]
     },
     "execution_count": 62,
     "metadata": {},
     "output_type": "execute_result"
    }
   ],
   "source": [
    "URL = 'https://2hy8ik84z1.execute-api.us-east-1.amazonaws.com/default/machine-learning'\n",
    "page = requests.get(URL, verify = False)\n",
    "page.content"
   ]
  },
  {
   "cell_type": "code",
   "execution_count": 63,
   "id": "b011370d-55e8-446a-8302-c87583febdc4",
   "metadata": {},
   "outputs": [],
   "source": [
    "table_names = soup.find(title=\"Table showing list of executed inmates\")\n",
    "df = pd.read_html(str(table_names))[0]"
   ]
  },
  {
   "cell_type": "code",
   "execution_count": 64,
   "id": "89acce63-fae1-48af-b89c-6c6c09ed569b",
   "metadata": {},
   "outputs": [
    {
     "data": {
      "text/plain": [
       "(575, 10)"
      ]
     },
     "execution_count": 64,
     "metadata": {},
     "output_type": "execute_result"
    }
   ],
   "source": [
    "df.shape"
   ]
  },
  {
   "cell_type": "code",
   "execution_count": 65,
   "id": "933ae307-a50c-4323-a0f5-dd9bd2b1ccf8",
   "metadata": {},
   "outputs": [],
   "source": [
    "df['last_first'] = df['Last Name'].apply(lambda row : row.lower()) + df['First Name'].apply(lambda row: row.lower())"
   ]
  },
  {
   "cell_type": "code",
   "execution_count": 66,
   "id": "72aaa653-4321-49ab-8f0b-157a5df50d02",
   "metadata": {},
   "outputs": [],
   "source": [
    "name_list = df['last_first']"
   ]
  },
  {
   "cell_type": "markdown",
   "id": "91c4be1a-8e27-498e-b633-090fc6590961",
   "metadata": {},
   "source": [
    "Pull each final statement:"
   ]
  },
  {
   "cell_type": "code",
   "execution_count": 67,
   "id": "b0c3e62a-64b4-4317-a81e-64204e9d89e6",
   "metadata": {},
   "outputs": [],
   "source": [
    "statement_list = []\n",
    "for name in name_list:\n",
    "    url_offender = f'https://www.tdcj.texas.gov/death_row/dr_info/{name}last.html'\n",
    "    page_offender = requests.get(url_offender, verify = False)\n",
    "    soup_offender = BeautifulSoup(page_offender.content, \"html.parser\")\n",
    "    try:\n",
    "        title = soup_offender.body.find(text=re.compile('Last Statement:'))\n",
    "        statement = title.find_next('p')\n",
    "        statement_list.append(statement.text)\n",
    "    except:\n",
    "        statement_list.append('ERROR')"
   ]
  },
  {
   "cell_type": "code",
   "execution_count": 68,
   "id": "cf2c8241-fcd5-43b2-9400-fa248e3f513b",
   "metadata": {
    "collapsed": true,
    "jupyter": {
     "outputs_hidden": true
    },
    "tags": []
   },
   "outputs": [
    {
     "data": {
      "text/plain": [
       "'I would like to thank my  Jesus Christ my Lord and Savior. I would like to thank all these people in my  life and that aided me in this journey. I would also like to thank the Texas  Department of Criminal Justice inmate Field Minister program True Foster and  Garcia for aiding me in my journey. To Ms. Walker’s family I pray my death will  bring you peace.'"
      ]
     },
     "execution_count": 68,
     "metadata": {},
     "output_type": "execute_result"
    }
   ],
   "source": [
    "statement_list[0]"
   ]
  },
  {
   "cell_type": "code",
   "execution_count": 69,
   "id": "532a62c6-82db-4924-9b4e-31e824d688ae",
   "metadata": {
    "tags": []
   },
   "outputs": [],
   "source": [
    "for index, row in df.iterrows():\n",
    "    name = row['last_first']\n",
    "    url_offender = f'https://www.tdcj.texas.gov/death_row/dr_info/{name}last.html'\n",
    "    page_offender = requests.get(url_offender, verify = False)\n",
    "    soup_offender = BeautifulSoup(page_offender.content, \"html.parser\")\n",
    "    try:\n",
    "        title = soup_offender.body.find(text=re.compile('Last Statement:'))\n",
    "        statement = title.find_next('p')\n",
    "        df.at[index, 'statement'] = statement.text\n",
    "    except:\n",
    "        df.at[index, 'statement'] = 'ERROR'"
   ]
  },
  {
   "cell_type": "code",
   "execution_count": 70,
   "id": "ec0f0679-32ba-420b-a97f-0d0775ad4a63",
   "metadata": {},
   "outputs": [
    {
     "data": {
      "text/html": [
       "<div>\n",
       "<style scoped>\n",
       "    .dataframe tbody tr th:only-of-type {\n",
       "        vertical-align: middle;\n",
       "    }\n",
       "\n",
       "    .dataframe tbody tr th {\n",
       "        vertical-align: top;\n",
       "    }\n",
       "\n",
       "    .dataframe thead th {\n",
       "        text-align: right;\n",
       "    }\n",
       "</style>\n",
       "<table border=\"1\" class=\"dataframe\">\n",
       "  <thead>\n",
       "    <tr style=\"text-align: right;\">\n",
       "      <th></th>\n",
       "      <th>Execution</th>\n",
       "      <th>Link</th>\n",
       "      <th>Link.1</th>\n",
       "      <th>Last Name</th>\n",
       "      <th>First Name</th>\n",
       "      <th>TDCJNumber</th>\n",
       "      <th>Age</th>\n",
       "      <th>Date</th>\n",
       "      <th>Race</th>\n",
       "      <th>County</th>\n",
       "      <th>last_first</th>\n",
       "      <th>statement</th>\n",
       "    </tr>\n",
       "  </thead>\n",
       "  <tbody>\n",
       "    <tr>\n",
       "      <th>0</th>\n",
       "      <td>575</td>\n",
       "      <td>Inmate Information</td>\n",
       "      <td>Last Statement</td>\n",
       "      <td>Chanthakoummane</td>\n",
       "      <td>Kosol</td>\n",
       "      <td>999529</td>\n",
       "      <td>41</td>\n",
       "      <td>8/17/2022</td>\n",
       "      <td>Other</td>\n",
       "      <td>Collin</td>\n",
       "      <td>chanthakoummanekosol</td>\n",
       "      <td>I would like to thank my  Jesus Christ my Lord...</td>\n",
       "    </tr>\n",
       "    <tr>\n",
       "      <th>1</th>\n",
       "      <td>574</td>\n",
       "      <td>Inmate Information</td>\n",
       "      <td>Last Statement</td>\n",
       "      <td>Buntion</td>\n",
       "      <td>Carl</td>\n",
       "      <td>993</td>\n",
       "      <td>78</td>\n",
       "      <td>4/21/2022</td>\n",
       "      <td>White</td>\n",
       "      <td>Harris</td>\n",
       "      <td>buntioncarl</td>\n",
       "      <td>Ok to start with I would like to thank everyon...</td>\n",
       "    </tr>\n",
       "    <tr>\n",
       "      <th>2</th>\n",
       "      <td>573</td>\n",
       "      <td>Inmate Information</td>\n",
       "      <td>Last Statement</td>\n",
       "      <td>Rhoades</td>\n",
       "      <td>Rick</td>\n",
       "      <td>999049</td>\n",
       "      <td>57</td>\n",
       "      <td>9/28/2021</td>\n",
       "      <td>White</td>\n",
       "      <td>Harris</td>\n",
       "      <td>rhoadesrick</td>\n",
       "      <td>No statement was made.</td>\n",
       "    </tr>\n",
       "    <tr>\n",
       "      <th>3</th>\n",
       "      <td>572</td>\n",
       "      <td>Inmate Information</td>\n",
       "      <td>Last Statement</td>\n",
       "      <td>Hummel</td>\n",
       "      <td>John</td>\n",
       "      <td>999567</td>\n",
       "      <td>45</td>\n",
       "      <td>6/30/2021</td>\n",
       "      <td>White</td>\n",
       "      <td>Tarrant</td>\n",
       "      <td>hummeljohn</td>\n",
       "      <td>Yes, when they lay me  down to sleep, for I am...</td>\n",
       "    </tr>\n",
       "    <tr>\n",
       "      <th>4</th>\n",
       "      <td>571</td>\n",
       "      <td>Inmate Information</td>\n",
       "      <td>Last Statement</td>\n",
       "      <td>Jones</td>\n",
       "      <td>Quintin</td>\n",
       "      <td>999379</td>\n",
       "      <td>41</td>\n",
       "      <td>5/19/2021</td>\n",
       "      <td>Black</td>\n",
       "      <td>Tarrant</td>\n",
       "      <td>jonesquintin</td>\n",
       "      <td>I would like to thank  all of the supporting p...</td>\n",
       "    </tr>\n",
       "  </tbody>\n",
       "</table>\n",
       "</div>"
      ],
      "text/plain": [
       "   Execution                Link          Link.1        Last Name First Name  \\\n",
       "0        575  Inmate Information  Last Statement  Chanthakoummane      Kosol   \n",
       "1        574  Inmate Information  Last Statement          Buntion       Carl   \n",
       "2        573  Inmate Information  Last Statement          Rhoades       Rick   \n",
       "3        572  Inmate Information  Last Statement           Hummel       John   \n",
       "4        571  Inmate Information  Last Statement            Jones    Quintin   \n",
       "\n",
       "   TDCJNumber  Age       Date   Race   County            last_first  \\\n",
       "0      999529   41  8/17/2022  Other   Collin  chanthakoummanekosol   \n",
       "1         993   78  4/21/2022  White   Harris           buntioncarl   \n",
       "2      999049   57  9/28/2021  White   Harris           rhoadesrick   \n",
       "3      999567   45  6/30/2021  White  Tarrant            hummeljohn   \n",
       "4      999379   41  5/19/2021  Black  Tarrant          jonesquintin   \n",
       "\n",
       "                                           statement  \n",
       "0  I would like to thank my  Jesus Christ my Lord...  \n",
       "1  Ok to start with I would like to thank everyon...  \n",
       "2                             No statement was made.  \n",
       "3  Yes, when they lay me  down to sleep, for I am...  \n",
       "4  I would like to thank  all of the supporting p...  "
      ]
     },
     "execution_count": 70,
     "metadata": {},
     "output_type": "execute_result"
    }
   ],
   "source": [
    "df.head()"
   ]
  },
  {
   "cell_type": "code",
   "execution_count": 71,
   "id": "cacf17b7",
   "metadata": {},
   "outputs": [
    {
     "data": {
      "text/html": [
       "<div>\n",
       "<style scoped>\n",
       "    .dataframe tbody tr th:only-of-type {\n",
       "        vertical-align: middle;\n",
       "    }\n",
       "\n",
       "    .dataframe tbody tr th {\n",
       "        vertical-align: top;\n",
       "    }\n",
       "\n",
       "    .dataframe thead th {\n",
       "        text-align: right;\n",
       "    }\n",
       "</style>\n",
       "<table border=\"1\" class=\"dataframe\">\n",
       "  <thead>\n",
       "    <tr style=\"text-align: right;\">\n",
       "      <th></th>\n",
       "      <th>Execution</th>\n",
       "      <th>Link</th>\n",
       "      <th>Link.1</th>\n",
       "      <th>Last Name</th>\n",
       "      <th>First Name</th>\n",
       "      <th>TDCJNumber</th>\n",
       "      <th>Age</th>\n",
       "      <th>Date</th>\n",
       "      <th>Race</th>\n",
       "      <th>County</th>\n",
       "      <th>last_first</th>\n",
       "      <th>statement</th>\n",
       "      <th>length</th>\n",
       "    </tr>\n",
       "  </thead>\n",
       "  <tbody>\n",
       "    <tr>\n",
       "      <th>0</th>\n",
       "      <td>575</td>\n",
       "      <td>Inmate Information</td>\n",
       "      <td>Last Statement</td>\n",
       "      <td>Chanthakoummane</td>\n",
       "      <td>Kosol</td>\n",
       "      <td>999529</td>\n",
       "      <td>41</td>\n",
       "      <td>8/17/2022</td>\n",
       "      <td>Other</td>\n",
       "      <td>Collin</td>\n",
       "      <td>chanthakoummanekosol</td>\n",
       "      <td>I would like to thank my  Jesus Christ my Lord...</td>\n",
       "      <td>358</td>\n",
       "    </tr>\n",
       "    <tr>\n",
       "      <th>1</th>\n",
       "      <td>574</td>\n",
       "      <td>Inmate Information</td>\n",
       "      <td>Last Statement</td>\n",
       "      <td>Buntion</td>\n",
       "      <td>Carl</td>\n",
       "      <td>993</td>\n",
       "      <td>78</td>\n",
       "      <td>4/21/2022</td>\n",
       "      <td>White</td>\n",
       "      <td>Harris</td>\n",
       "      <td>buntioncarl</td>\n",
       "      <td>Ok to start with I would like to thank everyon...</td>\n",
       "      <td>496</td>\n",
       "    </tr>\n",
       "    <tr>\n",
       "      <th>2</th>\n",
       "      <td>573</td>\n",
       "      <td>Inmate Information</td>\n",
       "      <td>Last Statement</td>\n",
       "      <td>Rhoades</td>\n",
       "      <td>Rick</td>\n",
       "      <td>999049</td>\n",
       "      <td>57</td>\n",
       "      <td>9/28/2021</td>\n",
       "      <td>White</td>\n",
       "      <td>Harris</td>\n",
       "      <td>rhoadesrick</td>\n",
       "      <td>No statement was made.</td>\n",
       "      <td>23</td>\n",
       "    </tr>\n",
       "    <tr>\n",
       "      <th>3</th>\n",
       "      <td>572</td>\n",
       "      <td>Inmate Information</td>\n",
       "      <td>Last Statement</td>\n",
       "      <td>Hummel</td>\n",
       "      <td>John</td>\n",
       "      <td>999567</td>\n",
       "      <td>45</td>\n",
       "      <td>6/30/2021</td>\n",
       "      <td>White</td>\n",
       "      <td>Tarrant</td>\n",
       "      <td>hummeljohn</td>\n",
       "      <td>Yes, when they lay me  down to sleep, for I am...</td>\n",
       "      <td>277</td>\n",
       "    </tr>\n",
       "    <tr>\n",
       "      <th>4</th>\n",
       "      <td>571</td>\n",
       "      <td>Inmate Information</td>\n",
       "      <td>Last Statement</td>\n",
       "      <td>Jones</td>\n",
       "      <td>Quintin</td>\n",
       "      <td>999379</td>\n",
       "      <td>41</td>\n",
       "      <td>5/19/2021</td>\n",
       "      <td>Black</td>\n",
       "      <td>Tarrant</td>\n",
       "      <td>jonesquintin</td>\n",
       "      <td>I would like to thank  all of the supporting p...</td>\n",
       "      <td>584</td>\n",
       "    </tr>\n",
       "  </tbody>\n",
       "</table>\n",
       "</div>"
      ],
      "text/plain": [
       "   Execution                Link          Link.1        Last Name First Name  \\\n",
       "0        575  Inmate Information  Last Statement  Chanthakoummane      Kosol   \n",
       "1        574  Inmate Information  Last Statement          Buntion       Carl   \n",
       "2        573  Inmate Information  Last Statement          Rhoades       Rick   \n",
       "3        572  Inmate Information  Last Statement           Hummel       John   \n",
       "4        571  Inmate Information  Last Statement            Jones    Quintin   \n",
       "\n",
       "   TDCJNumber  Age       Date   Race   County            last_first  \\\n",
       "0      999529   41  8/17/2022  Other   Collin  chanthakoummanekosol   \n",
       "1         993   78  4/21/2022  White   Harris           buntioncarl   \n",
       "2      999049   57  9/28/2021  White   Harris           rhoadesrick   \n",
       "3      999567   45  6/30/2021  White  Tarrant            hummeljohn   \n",
       "4      999379   41  5/19/2021  Black  Tarrant          jonesquintin   \n",
       "\n",
       "                                           statement  length  \n",
       "0  I would like to thank my  Jesus Christ my Lord...     358  \n",
       "1  Ok to start with I would like to thank everyon...     496  \n",
       "2                             No statement was made.      23  \n",
       "3  Yes, when they lay me  down to sleep, for I am...     277  \n",
       "4  I would like to thank  all of the supporting p...     584  "
      ]
     },
     "execution_count": 71,
     "metadata": {},
     "output_type": "execute_result"
    }
   ],
   "source": [
    "df['length'] = df['statement'].map(lambda x: len(x))\n",
    "df.head()"
   ]
  },
  {
   "cell_type": "code",
   "execution_count": 72,
   "id": "43d607fe",
   "metadata": {},
   "outputs": [
    {
     "name": "stderr",
     "output_type": "stream",
     "text": [
      "c:\\Users\\wvanbuskir002\\.conda\\envs\\kedro-PY37\\lib\\site-packages\\ipykernel_launcher.py:2: FutureWarning: The default value of regex will change from True to False in a future version.\n",
      "  \n"
     ]
    }
   ],
   "source": [
    "## Statement Cleaning\n",
    "df['statement'] = df['statement'].str.replace(r'\\\\r','')"
   ]
  },
  {
   "cell_type": "code",
   "execution_count": 73,
   "id": "55abf2f9",
   "metadata": {},
   "outputs": [],
   "source": [
    "statements_to_remove = ['ERROR', 'This inmate declined to make a last statement.', 'None']\n",
    "\n",
    "df = df[~df.statement.isin(statements_to_remove)]"
   ]
  },
  {
   "cell_type": "code",
   "execution_count": 74,
   "id": "3b60da89",
   "metadata": {},
   "outputs": [
    {
     "ename": "PermissionError",
     "evalue": "[Errno 13] Permission denied: 'statements.csv'",
     "output_type": "error",
     "traceback": [
      "\u001b[1;31m---------------------------------------------------------------------------\u001b[0m",
      "\u001b[1;31mPermissionError\u001b[0m                           Traceback (most recent call last)",
      "\u001b[1;32m~\\AppData\\Local\\Temp\\ipykernel_62336\\2565122932.py\u001b[0m in \u001b[0;36m<module>\u001b[1;34m\u001b[0m\n\u001b[1;32m----> 1\u001b[1;33m \u001b[0mdf\u001b[0m\u001b[1;33m.\u001b[0m\u001b[0mto_csv\u001b[0m\u001b[1;33m(\u001b[0m\u001b[1;34m'statements.csv'\u001b[0m\u001b[1;33m)\u001b[0m\u001b[1;33m\u001b[0m\u001b[1;33m\u001b[0m\u001b[0m\n\u001b[0m",
      "\u001b[1;32mc:\\Users\\wvanbuskir002\\.conda\\envs\\kedro-PY37\\lib\\site-packages\\pandas\\core\\generic.py\u001b[0m in \u001b[0;36mto_csv\u001b[1;34m(self, path_or_buf, sep, na_rep, float_format, columns, header, index, index_label, mode, encoding, compression, quoting, quotechar, line_terminator, chunksize, date_format, doublequote, escapechar, decimal, errors, storage_options)\u001b[0m\n\u001b[0;32m   3480\u001b[0m             \u001b[0mdoublequote\u001b[0m\u001b[1;33m=\u001b[0m\u001b[0mdoublequote\u001b[0m\u001b[1;33m,\u001b[0m\u001b[1;33m\u001b[0m\u001b[1;33m\u001b[0m\u001b[0m\n\u001b[0;32m   3481\u001b[0m             \u001b[0mescapechar\u001b[0m\u001b[1;33m=\u001b[0m\u001b[0mescapechar\u001b[0m\u001b[1;33m,\u001b[0m\u001b[1;33m\u001b[0m\u001b[1;33m\u001b[0m\u001b[0m\n\u001b[1;32m-> 3482\u001b[1;33m             \u001b[0mstorage_options\u001b[0m\u001b[1;33m=\u001b[0m\u001b[0mstorage_options\u001b[0m\u001b[1;33m,\u001b[0m\u001b[1;33m\u001b[0m\u001b[1;33m\u001b[0m\u001b[0m\n\u001b[0m\u001b[0;32m   3483\u001b[0m         )\n\u001b[0;32m   3484\u001b[0m \u001b[1;33m\u001b[0m\u001b[0m\n",
      "\u001b[1;32mc:\\Users\\wvanbuskir002\\.conda\\envs\\kedro-PY37\\lib\\site-packages\\pandas\\io\\formats\\format.py\u001b[0m in \u001b[0;36mto_csv\u001b[1;34m(self, path_or_buf, encoding, sep, columns, index_label, mode, compression, quoting, quotechar, line_terminator, chunksize, date_format, doublequote, escapechar, errors, storage_options)\u001b[0m\n\u001b[0;32m   1103\u001b[0m             \u001b[0mformatter\u001b[0m\u001b[1;33m=\u001b[0m\u001b[0mself\u001b[0m\u001b[1;33m.\u001b[0m\u001b[0mfmt\u001b[0m\u001b[1;33m,\u001b[0m\u001b[1;33m\u001b[0m\u001b[1;33m\u001b[0m\u001b[0m\n\u001b[0;32m   1104\u001b[0m         )\n\u001b[1;32m-> 1105\u001b[1;33m         \u001b[0mcsv_formatter\u001b[0m\u001b[1;33m.\u001b[0m\u001b[0msave\u001b[0m\u001b[1;33m(\u001b[0m\u001b[1;33m)\u001b[0m\u001b[1;33m\u001b[0m\u001b[1;33m\u001b[0m\u001b[0m\n\u001b[0m\u001b[0;32m   1106\u001b[0m \u001b[1;33m\u001b[0m\u001b[0m\n\u001b[0;32m   1107\u001b[0m         \u001b[1;32mif\u001b[0m \u001b[0mcreated_buffer\u001b[0m\u001b[1;33m:\u001b[0m\u001b[1;33m\u001b[0m\u001b[1;33m\u001b[0m\u001b[0m\n",
      "\u001b[1;32mc:\\Users\\wvanbuskir002\\.conda\\envs\\kedro-PY37\\lib\\site-packages\\pandas\\io\\formats\\csvs.py\u001b[0m in \u001b[0;36msave\u001b[1;34m(self)\u001b[0m\n\u001b[0;32m    241\u001b[0m             \u001b[0merrors\u001b[0m\u001b[1;33m=\u001b[0m\u001b[0mself\u001b[0m\u001b[1;33m.\u001b[0m\u001b[0merrors\u001b[0m\u001b[1;33m,\u001b[0m\u001b[1;33m\u001b[0m\u001b[1;33m\u001b[0m\u001b[0m\n\u001b[0;32m    242\u001b[0m             \u001b[0mcompression\u001b[0m\u001b[1;33m=\u001b[0m\u001b[0mself\u001b[0m\u001b[1;33m.\u001b[0m\u001b[0mcompression\u001b[0m\u001b[1;33m,\u001b[0m\u001b[1;33m\u001b[0m\u001b[1;33m\u001b[0m\u001b[0m\n\u001b[1;32m--> 243\u001b[1;33m             \u001b[0mstorage_options\u001b[0m\u001b[1;33m=\u001b[0m\u001b[0mself\u001b[0m\u001b[1;33m.\u001b[0m\u001b[0mstorage_options\u001b[0m\u001b[1;33m,\u001b[0m\u001b[1;33m\u001b[0m\u001b[1;33m\u001b[0m\u001b[0m\n\u001b[0m\u001b[0;32m    244\u001b[0m         ) as handles:\n\u001b[0;32m    245\u001b[0m \u001b[1;33m\u001b[0m\u001b[0m\n",
      "\u001b[1;32mc:\\Users\\wvanbuskir002\\.conda\\envs\\kedro-PY37\\lib\\site-packages\\pandas\\io\\common.py\u001b[0m in \u001b[0;36mget_handle\u001b[1;34m(path_or_buf, mode, encoding, compression, memory_map, is_text, errors, storage_options)\u001b[0m\n\u001b[0;32m    705\u001b[0m                 \u001b[0mencoding\u001b[0m\u001b[1;33m=\u001b[0m\u001b[0mioargs\u001b[0m\u001b[1;33m.\u001b[0m\u001b[0mencoding\u001b[0m\u001b[1;33m,\u001b[0m\u001b[1;33m\u001b[0m\u001b[1;33m\u001b[0m\u001b[0m\n\u001b[0;32m    706\u001b[0m                 \u001b[0merrors\u001b[0m\u001b[1;33m=\u001b[0m\u001b[0merrors\u001b[0m\u001b[1;33m,\u001b[0m\u001b[1;33m\u001b[0m\u001b[1;33m\u001b[0m\u001b[0m\n\u001b[1;32m--> 707\u001b[1;33m                 \u001b[0mnewline\u001b[0m\u001b[1;33m=\u001b[0m\u001b[1;34m\"\"\u001b[0m\u001b[1;33m,\u001b[0m\u001b[1;33m\u001b[0m\u001b[1;33m\u001b[0m\u001b[0m\n\u001b[0m\u001b[0;32m    708\u001b[0m             )\n\u001b[0;32m    709\u001b[0m         \u001b[1;32melse\u001b[0m\u001b[1;33m:\u001b[0m\u001b[1;33m\u001b[0m\u001b[1;33m\u001b[0m\u001b[0m\n",
      "\u001b[1;31mPermissionError\u001b[0m: [Errno 13] Permission denied: 'statements.csv'"
     ]
    }
   ],
   "source": [
    "df.to_csv('statements.csv')"
   ]
  },
  {
   "cell_type": "code",
   "execution_count": null,
   "id": "f8b08c54",
   "metadata": {},
   "outputs": [
    {
     "data": {
      "text/plain": [
       "(415, 13)"
      ]
     },
     "execution_count": 52,
     "metadata": {},
     "output_type": "execute_result"
    }
   ],
   "source": [
    "df.shape"
   ]
  },
  {
   "cell_type": "markdown",
   "id": "8a09f3e6-6fed-4b12-a625-5c045e9955f6",
   "metadata": {},
   "source": [
    "## Clustering"
   ]
  },
  {
   "cell_type": "code",
   "execution_count": null,
   "id": "8e357cfb-a81a-45d5-b2dc-1317018c23d6",
   "metadata": {},
   "outputs": [],
   "source": [
    "def process_text(text, stem=True):\n",
    "    \"\"\" Tokenize text and stem words removing punctuation \"\"\"\n",
    "    text = text.translate(str.maketrans('','',string.punctuation))\n",
    "    text = text.translate(str.maketrans('','','1234567890'))\n",
    "    tokens = word_tokenize(text)\n",
    " \n",
    "    if stem:\n",
    "        stemmer = PorterStemmer()\n",
    "        tokens = [stemmer.stem(t) for t in tokens]\n",
    " \n",
    "    return tokens\n",
    " \n",
    "\n",
    "def cluster_texts(texts, clusters=3):\n",
    "    \"\"\" Transform texts to Tf-Idf coordinates and cluster texts using K-Means \"\"\"\n",
    "    vectorizer = TfidfVectorizer(tokenizer=process_text,\n",
    "                                 stop_words=stopwords.words('english'),\n",
    "                                 max_df=0.5,\n",
    "                                 min_df=0.1,\n",
    "                                 lowercase=True)\n",
    " \n",
    "    tfidf_model = vectorizer.fit_transform(texts)\n",
    "    km_model = KMeans(n_clusters=clusters)\n",
    "    km_model.fit(tfidf_model)\n",
    " \n",
    "    clustering = collections.defaultdict(list)\n",
    " \n",
    "    for idx, label in enumerate(km_model.labels_):\n",
    "        clustering[label].append(idx)\n",
    " \n",
    "    return clustering"
   ]
  },
  {
   "cell_type": "code",
   "execution_count": null,
   "id": "b7d1b3e3-5b17-4bc4-8c7b-ed5f35d79547",
   "metadata": {},
   "outputs": [
    {
     "name": "stderr",
     "output_type": "stream",
     "text": [
      "c:\\Users\\wvanbuskir002\\.conda\\envs\\kedro-PY37\\lib\\site-packages\\sklearn\\feature_extraction\\text.py:401: UserWarning: Your stop_words may be inconsistent with your preprocessing. Tokenizing the stop words generated tokens ['abov', 'ani', 'arent', 'becaus', 'befor', 'couldnt', 'didnt', 'doe', 'doesnt', 'dont', 'dure', 'ha', 'hadnt', 'hasnt', 'havent', 'hi', 'isnt', 'mightnt', 'mustnt', 'neednt', 'onc', 'onli', 'ourselv', 'shant', 'shouldnt', 'shouldv', 'thatll', 'themselv', 'thi', 'veri', 'wa', 'wasnt', 'werent', 'whi', 'wont', 'wouldnt', 'youd', 'youll', 'yourselv', 'youv'] not in stop_words.\n",
      "  % sorted(inconsistent)\n"
     ]
    }
   ],
   "source": [
    "clusters_7 = cluster_texts(statement_list, 7)"
   ]
  },
  {
   "cell_type": "code",
   "execution_count": null,
   "id": "6f4c16e5-dec4-4ba0-af09-7c892882da54",
   "metadata": {},
   "outputs": [
    {
     "data": {
      "text/plain": [
       "[10,\n",
       " 16,\n",
       " 22,\n",
       " 25,\n",
       " 41,\n",
       " 76,\n",
       " 80,\n",
       " 83,\n",
       " 85,\n",
       " 98,\n",
       " 108,\n",
       " 114,\n",
       " 120,\n",
       " 126,\n",
       " 144,\n",
       " 145,\n",
       " 153,\n",
       " 156,\n",
       " 166,\n",
       " 170,\n",
       " 173,\n",
       " 180,\n",
       " 181,\n",
       " 189,\n",
       " 192,\n",
       " 193,\n",
       " 197,\n",
       " 202,\n",
       " 205,\n",
       " 213,\n",
       " 215,\n",
       " 216,\n",
       " 217,\n",
       " 218,\n",
       " 225,\n",
       " 226,\n",
       " 228,\n",
       " 242,\n",
       " 249,\n",
       " 255,\n",
       " 260,\n",
       " 263,\n",
       " 267,\n",
       " 271,\n",
       " 272,\n",
       " 277,\n",
       " 278,\n",
       " 283,\n",
       " 286,\n",
       " 293,\n",
       " 298,\n",
       " 302,\n",
       " 303,\n",
       " 309,\n",
       " 311,\n",
       " 314,\n",
       " 322,\n",
       " 331,\n",
       " 332,\n",
       " 346,\n",
       " 351,\n",
       " 356,\n",
       " 364,\n",
       " 365,\n",
       " 366,\n",
       " 369,\n",
       " 370,\n",
       " 371,\n",
       " 374,\n",
       " 375,\n",
       " 381,\n",
       " 382,\n",
       " 383,\n",
       " 385,\n",
       " 388,\n",
       " 389,\n",
       " 390,\n",
       " 391,\n",
       " 393,\n",
       " 396,\n",
       " 397,\n",
       " 398,\n",
       " 399,\n",
       " 401,\n",
       " 403,\n",
       " 404,\n",
       " 417,\n",
       " 418,\n",
       " 419,\n",
       " 423,\n",
       " 425,\n",
       " 431,\n",
       " 442,\n",
       " 448,\n",
       " 455,\n",
       " 458,\n",
       " 459,\n",
       " 460,\n",
       " 462,\n",
       " 466,\n",
       " 467,\n",
       " 468,\n",
       " 469,\n",
       " 470,\n",
       " 471,\n",
       " 473,\n",
       " 474,\n",
       " 477,\n",
       " 479,\n",
       " 481,\n",
       " 482,\n",
       " 486,\n",
       " 490,\n",
       " 493,\n",
       " 498,\n",
       " 499,\n",
       " 500,\n",
       " 505,\n",
       " 506,\n",
       " 508,\n",
       " 510,\n",
       " 511,\n",
       " 513,\n",
       " 514,\n",
       " 515,\n",
       " 516,\n",
       " 517,\n",
       " 518,\n",
       " 519,\n",
       " 520,\n",
       " 521,\n",
       " 522,\n",
       " 523,\n",
       " 524,\n",
       " 525,\n",
       " 527,\n",
       " 530,\n",
       " 531,\n",
       " 532,\n",
       " 538,\n",
       " 541,\n",
       " 543,\n",
       " 545,\n",
       " 546,\n",
       " 547,\n",
       " 548,\n",
       " 549,\n",
       " 550,\n",
       " 552,\n",
       " 553,\n",
       " 554,\n",
       " 556,\n",
       " 562,\n",
       " 567,\n",
       " 571,\n",
       " 572,\n",
       " 573]"
      ]
     },
     "execution_count": 14,
     "metadata": {},
     "output_type": "execute_result"
    }
   ],
   "source": [
    "distortions = []\n",
    "K = range(1,10)\n",
    "for k in K:\n",
    "    kmeanModel = KMeans(n_clusters=k)\n",
    "    kmeanModel.fit(df)\n",
    "    distortions.append(kmeanModel.inertia_)\n",
    "# Plotting the distortions of K-Means\n",
    "plt.figure(figsize=(16,8))\n",
    "plt.plot(K, distortions, 'bx-')\n",
    "plt.xlabel('k')\n",
    "plt.ylabel('Distortion')\n",
    "plt.title('The Elbow Method showing the optimal k')\n",
    "plt.show()"
   ]
  },
  {
   "cell_type": "code",
   "execution_count": null,
   "id": "e654d557-c89b-4035-bd8e-c9eab74ecb10",
   "metadata": {},
   "outputs": [
    {
     "ename": "TypeError",
     "evalue": "list indices must be integers or slices, not list",
     "output_type": "error",
     "traceback": [
      "\u001b[1;31m---------------------------------------------------------------------------\u001b[0m",
      "\u001b[1;31mTypeError\u001b[0m                                 Traceback (most recent call last)",
      "\u001b[1;32mc:\\Users\\wvanbuskir002\\Documents\\7 - Other Research - Tech\\death-row\\death-row-analytics.ipynb Cell 17'\u001b[0m in \u001b[0;36m<cell line: 1>\u001b[1;34m()\u001b[0m\n\u001b[1;32m----> <a href='vscode-notebook-cell:/c%3A/Users/wvanbuskir002/Documents/7%20-%20Other%20Research%20-%20Tech/death-row/death-row-analytics.ipynb#ch0000016?line=0'>1</a>\u001b[0m statement_list[clusters[\u001b[39m2\u001b[39;49m]]\n",
      "\u001b[1;31mTypeError\u001b[0m: list indices must be integers or slices, not list"
     ]
    }
   ],
   "source": [
    "statement_list[clusters[2]]"
   ]
  },
  {
   "cell_type": "code",
   "execution_count": null,
   "id": "784ed5ac-a509-4701-be36-c9389f133aeb",
   "metadata": {},
   "outputs": [],
   "source": [
    "cluster_2 = [ statement_list[i] for i in clusters[2]]"
   ]
  },
  {
   "cell_type": "code",
   "execution_count": null,
   "id": "2784fee2-93b3-4072-ba0d-8658e5637e9d",
   "metadata": {},
   "outputs": [
    {
     "ename": "NameError",
     "evalue": "name 'cluster_2' is not defined",
     "output_type": "error",
     "traceback": [
      "\u001b[1;31m---------------------------------------------------------------------------\u001b[0m",
      "\u001b[1;31mNameError\u001b[0m                                 Traceback (most recent call last)",
      "\u001b[1;32m~\\AppData\\Local\\Temp\\ipykernel_62336\\2632282933.py\u001b[0m in \u001b[0;36m<module>\u001b[1;34m\u001b[0m\n\u001b[1;32m----> 1\u001b[1;33m \u001b[0mcluster_2\u001b[0m\u001b[1;33m;\u001b[0m\u001b[1;33m\u001b[0m\u001b[1;33m\u001b[0m\u001b[0m\n\u001b[0m",
      "\u001b[1;31mNameError\u001b[0m: name 'cluster_2' is not defined"
     ]
    }
   ],
   "source": [
    "cluster_2;"
   ]
  },
  {
   "cell_type": "code",
   "execution_count": null,
   "id": "167a0b11-6e93-4b41-b172-79c413c5e1bd",
   "metadata": {},
   "outputs": [],
   "source": []
  }
 ],
 "metadata": {
  "interpreter": {
   "hash": "bee02ea61a121492ab47d330d4ce2ec534ad2b1c0a7e0767c57319e59efdd7ff"
  },
  "kernelspec": {
   "display_name": "Python 3.7.13 ('kedro-PY37')",
   "language": "python",
   "name": "python3"
  },
  "language_info": {
   "codemirror_mode": {
    "name": "ipython",
    "version": 3
   },
   "file_extension": ".py",
   "mimetype": "text/x-python",
   "name": "python",
   "nbconvert_exporter": "python",
   "pygments_lexer": "ipython3",
   "version": "3.7.13"
  }
 },
 "nbformat": 4,
 "nbformat_minor": 5
}
